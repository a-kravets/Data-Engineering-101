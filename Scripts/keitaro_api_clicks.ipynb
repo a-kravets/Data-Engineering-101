{
 "cells": [
  {
   "cell_type": "code",
   "execution_count": 19,
   "id": "6f201870-11d6-4a48-86d1-d7a24fd38cd4",
   "metadata": {},
   "outputs": [],
   "source": [
    "import pandas as pd\n",
    "import requests\n",
    "from pandas import json_normalize\n",
    "import json\n",
    "import warnings"
   ]
  },
  {
   "cell_type": "code",
   "execution_count": 25,
   "id": "57f16dd5-4e38-4987-9de1-03a3b271e009",
   "metadata": {},
   "outputs": [],
   "source": [
    "warnings.filterwarnings(\"ignore\")"
   ]
  },
  {
   "cell_type": "code",
   "execution_count": 44,
   "id": "8d43f619-e563-4233-afbe-b60a6cb1a4af",
   "metadata": {},
   "outputs": [],
   "source": [
    "# https://admin-api.docs.keitaro.io/#tag/Clicks/paths/~1clicks~1log/post\n",
    "\n",
    "payload = json.dumps({\n",
    "  \"limit\": 10, # change to 0 for pulling all clicks history\n",
    "  \"offset\": 0,\n",
    "  \"filters\": [\n",
    "    {\n",
    "      \"name\": \"campaign_group_id\",\n",
    "      \"operator\": \"EQUALS\",\n",
    "      \"expression\": 00 #add group id you want to filter on\n",
    "    }\n",
    "  ],\n",
    "  \"range\": {\n",
    "       \"to\": \"2024-04-09\" # pulls all the data till the specified date\n",
    "  #    \"interval\": \"yesterday\"  # uncomment for pulling data for yesterday only\n",
    "    }\n",
    "})\n",
    "\n",
    "clicks = requests.post(\n",
    "    'http://keitaro-example-server.com/admin_api/v1/clicks/log', headers={'Api-Key': ''}, # add your actual keitaro server address\n",
    "    data=payload\n",
    ")"
   ]
  },
  {
   "cell_type": "code",
   "execution_count": 45,
   "id": "549e544b-72a5-4108-9b29-3869def0ed30",
   "metadata": {},
   "outputs": [
    {
     "data": {
      "text/plain": [
       "<Response [200]>"
      ]
     },
     "execution_count": 45,
     "metadata": {},
     "output_type": "execute_result"
    }
   ],
   "source": [
    "clicks"
   ]
  },
  {
   "cell_type": "code",
   "execution_count": 46,
   "id": "1484f785-9806-4980-bca1-c3a0fc055d19",
   "metadata": {},
   "outputs": [],
   "source": [
    "df_clicks = json_normalize(clicks.json()['rows'])\n",
    "df_clicks_filtered = df_clicks[['campaign_id', 'campaign', 'click_id', 'sub_id', 'sub_id_1', \\\n",
    "                                'sub_id_2', 'sub_id_3', 'sub_id_4', 'sub_id_5', 'datetime']]\n",
    "df_clicks_filtered['datetime'] = pd.to_datetime(df_clicks_filtered['datetime'])"
   ]
  },
  {
   "cell_type": "code",
   "execution_count": 15,
   "id": "faf0d606-2587-40b9-a512-4f6ec28b9b73",
   "metadata": {},
   "outputs": [],
   "source": []
  },
  {
   "cell_type": "code",
   "execution_count": null,
   "id": "a99164a1-770c-47f5-b440-d801a575f596",
   "metadata": {},
   "outputs": [],
   "source": [
    "import clickhouse_connect\n",
    "\n",
    "# https://clickhouse-driver.readthedocs.io/en/latest/quickstart.html#selecting-data\n",
    "\n",
    "client = clickhouse_connect.get_client(host='', port=8123, username='', password='')"
   ]
  },
  {
   "cell_type": "code",
   "execution_count": 213,
   "id": "ada1b580-1f01-4801-8846-e569dac54aaf",
   "metadata": {},
   "outputs": [
    {
     "data": {
      "text/plain": [
       "<clickhouse_connect.driver.summary.QuerySummary at 0x1fb462018e0>"
      ]
     },
     "execution_count": 213,
     "metadata": {},
     "output_type": "execute_result"
    }
   ],
   "source": [
    "# https://clickhouse.com/docs/en/integrations/python#client-insert-method\n",
    "client.insert_df(table='scheme.keitaro_clicks', df=df_clicks_filtered)"
   ]
  },
  {
   "cell_type": "code",
   "execution_count": null,
   "id": "e77f8b56-a325-42ba-b883-b4daf64cdda3",
   "metadata": {},
   "outputs": [],
   "source": []
  }
 ],
 "metadata": {
  "kernelspec": {
   "display_name": "Python 3 (ipykernel)",
   "language": "python",
   "name": "python3"
  },
  "language_info": {
   "codemirror_mode": {
    "name": "ipython",
    "version": 3
   },
   "file_extension": ".py",
   "mimetype": "text/x-python",
   "name": "python",
   "nbconvert_exporter": "python",
   "pygments_lexer": "ipython3",
   "version": "3.10.9"
  }
 },
 "nbformat": 4,
 "nbformat_minor": 5
}
